{
 "cells": [
  {
   "cell_type": "code",
   "execution_count": 26,
   "metadata": {},
   "outputs": [
    {
     "name": "stdout",
     "output_type": "stream",
     "text": [
      "Financial Analysis\n",
      "------------------------------------------------\n",
      "Total Months: 86\n",
      "Total Profit: $38382578\n",
      "Average Change: $446309.05\n",
      "Greatest Increase in Profits: Feb-2012 $1170593\n",
      "Greatest Decrease in Profits: Sep-2013 $-1196225\n",
      "[867884, 984655, 322013, -69417, 310503, 522857, 1033096, 604885, -216386, 477532, 893810, -80353, 779806, -335203, 697845, 793163, 485070, 584122, 62729, 668179, 899906, 834719, 132003, 309978, -755566, 1170593, 252788, 1151518, 817256, 570757, 506702, -1022534, 475062, 779976, 144175, 542494, 359333, 321469, 67780, 471435, 565603, 872480, 789480, 999942, -1196225, 268997, -687986, 1150461, 682458, 617856, 824098, 581943, 132864, 448062, 689161, 800701, 1166643, 947333, 578668, 988505, 1139715, 1029471, 687533, -524626, 158620, 87795, 423389, 840723, 568529, 332067, 989499, 778237, 650000, -1100387, -174946, 757143, 445709, 712961, -1163797, 569899, 768450, 102685, 795914, 60988, 138230, 671099]\n"
     ]
    }
   ],
   "source": [
    "import os\n",
    "import csv\n",
    "from statistics import mean\n",
    "    \n",
    "csvpath = os.path.join(\"budget_data.csv\") \n",
    "\n",
    "# Open csv file in read mode\n",
    "with open(csvpath, 'r') as csvfile:\n",
    "    \n",
    "    # File is noted as using the comma delimiter upon opening\n",
    "    csvreader = csv.reader(csvfile, delimiter=\",\")\n",
    "    \n",
    "    # Skip Header using \"next\"\n",
    "    csv_header = next(csvreader)\n",
    "    \n",
    "    # Setting variables to process the data\n",
    "    month = 0\n",
    "    net_profit = 0\n",
    "    change = []\n",
    "    increase = 0\n",
    "    increase_month = None\n",
    "    decrease = 0\n",
    "    decrease_month = None\n",
    "    \n",
    "    for row in csvreader:\n",
    "        month += 1\n",
    "        net_profit += int(row[1])\n",
    "        \n",
    "        # Determine change per month\n",
    "        x = int(row[1])\n",
    "        diff = (x + int(row[1]) - x)\n",
    "        change.append(diff)\n",
    "        \n",
    "        \n",
    "        # If the number in row 2 is greater than 0, and then greater than the previous number it becomes the number for highest increase\n",
    "        if int(row[1]) > increase:\n",
    "            increase = int(row[1])\n",
    "            \n",
    "            # If that number is the highest then the associated month is saved a string to be printed\n",
    "            increase_month = str(row[0])\n",
    "            \n",
    "        # If the number in row 2 is less than 0, and then less than the previous number it becomes the number for greatest decrease\n",
    "        elif int(row[1]) < decrease:\n",
    "            decrease = int(row[1])\n",
    "            \n",
    "            # If that number is the lowest then the associated month is saved a string to be printed\n",
    "            decrease_month = str(row[0])\n",
    "\n",
    "change_average = round(mean(change),2)\n",
    "\n",
    "\n",
    "print(\"Financial Analysis\")\n",
    "print(\"------------------------------------------------\")\n",
    "print(f\"Total Months: {month}\")\n",
    "print(f\"Total Profit: ${net_profit}\")\n",
    "print(f\"Average Change: ${change_average}\")\n",
    "print(f\"Greatest Increase in Profits: {increase_month} ${increase}\")\n",
    "print(f\"Greatest Decrease in Profits: {decrease_month} ${decrease}\")\n",
    "\n",
    "print(change)"
   ]
  },
  {
   "cell_type": "code",
   "execution_count": null,
   "metadata": {},
   "outputs": [],
   "source": []
  }
 ],
 "metadata": {
  "kernelspec": {
   "display_name": "Python 3",
   "language": "python",
   "name": "python3"
  },
  "language_info": {
   "codemirror_mode": {
    "name": "ipython",
    "version": 3
   },
   "file_extension": ".py",
   "mimetype": "text/x-python",
   "name": "python",
   "nbconvert_exporter": "python",
   "pygments_lexer": "ipython3",
   "version": "3.8.3"
  }
 },
 "nbformat": 4,
 "nbformat_minor": 4
}
